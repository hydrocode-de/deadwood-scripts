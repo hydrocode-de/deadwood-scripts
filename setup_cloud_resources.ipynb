{
 "cells": [
  {
   "cell_type": "markdown",
   "metadata": {},
   "source": [
    "# Setup cloud resouces\n",
    "\n",
    "You need `gcloud` installed, initialized and logged in with an account that has access to the `deadwood-d4a4b` project."
   ]
  },
  {
   "cell_type": "markdown",
   "metadata": {},
   "source": [
    "## Workload Identity federation\n",
    "\n",
    "This is necessary, that the Github action can use the associated user credentials to request a google could access token in exchange for a Github openID token. The access is done via a google service accout that has the permission to access google artifact registry"
   ]
  },
  {
   "cell_type": "markdown",
   "metadata": {},
   "source": [
    "```\n",
    "export PROJECT_ID=\"deadwood-d4a4d\"\n",
    "gcloud init\n",
    "```"
   ]
  },
  {
   "cell_type": "markdown",
   "metadata": {},
   "source": [
    "Create a service account with the right permissions:\n",
    "\n",
    "`github-build-container-artifac@deadwood-d4a4b.iam.gserviceaccount.com`\n",
    "\n",
    "`export SERVICE_ACCOUNT=\"github-build-container-artifac@deadwood-d4a4b.iam.gserviceaccount.com\"`"
   ]
  },
  {
   "cell_type": "markdown",
   "metadata": {},
   "source": [
    "create the federation pool\n",
    "\n",
    "`gcloud iam workload-identity-pools create \"github-action\" --location=\"europe-west3\"  --display-name=\"GitHub Actions\"`\n",
    "\n",
    "get the full id for the pool - Github will need that\n",
    "`gcloud iam workload-identity-pools describe \"github-action\"  --location=\"global\" --format=\"value(name)\"`"
   ]
  },
  {
   "cell_type": "markdown",
   "metadata": {},
   "source": [
    "gcloud iam workload-identity-pools describe \"github-action\"  --location=\"global\" --format=\"value(name)\"\n",
    "\n",
    "set that as a variable\n",
    "`export WORKLOAD_IDENTITY_POOL_ID=\"projects/20668345835/locations/global/workloadIdentityPools/github-action\"`\n"
   ]
  },
  {
   "cell_type": "markdown",
   "metadata": {},
   "source": [
    "Now we need the provider for OpenID in the created pool"
   ]
  },
  {
   "cell_type": "markdown",
   "metadata": {},
   "source": [
    "`gcloud iam workload-identity-pools providers create-oidc \"github\" --location=\"global\" --workload-identity-pool=\"github-action\" --display-name=\"Github provider\" --attribute-mapping=\"google.subject=assertion.sub,attribute.actor=assertion.actor,attribute.repository=assertion.repository\" --issuer-uri=\"https://token.actions.githubusercontent.com\"`"
   ]
  },
  {
   "cell_type": "markdown",
   "metadata": {},
   "source": [
    "next, we need to allow the repo\n",
    "\n",
    "`export REPO=\"hydrocode-de/deadwood-scripts\"`\n",
    "\n",
    "`gcloud iam service-accounts add-iam-policy-binding \"${SERVICE_ACCOUNT}\" --role=\"roles/iam.workloadIdentityUser\" --member=\"principalSet://iam.googleapis.com/${WORKLOAD_IDENTITY_POOL_ID}/attribute.repository/${REPO}\"`"
   ]
  },
  {
   "cell_type": "markdown",
   "metadata": {},
   "source": [
    "For the Github action the Provider id is needed:\n",
    "\n",
    "that is added to the github secrets\n",
    "\n",
    "`gcloud iam workload-identity-pools providers describe \"github\" --location=\"global\" --workload-identity-pool=\"github-action\" --format=\"value(name)\"`"
   ]
  }
 ],
 "metadata": {
  "kernelspec": {
   "display_name": "base",
   "language": "python",
   "name": "python3"
  },
  "language_info": {
   "codemirror_mode": {
    "name": "ipython",
    "version": 3
   },
   "file_extension": ".py",
   "mimetype": "text/x-python",
   "name": "python",
   "nbconvert_exporter": "python",
   "pygments_lexer": "ipython3",
   "version": "3.9.13"
  }
 },
 "nbformat": 4,
 "nbformat_minor": 2
}
