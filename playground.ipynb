{
 "cells": [
  {
   "cell_type": "code",
   "execution_count": 2,
   "metadata": {},
   "outputs": [
    {
     "name": "stdout",
     "output_type": "stream",
     "text": [
      "CONTAINER ID   IMAGE                            COMMAND                   CREATED        STATUS                 PORTS                                                                                                        NAMES\n",
      "c64754d869c8   supabase/gotrue:v2.62.1          \"gotrue\"                  3 months ago   Up 2 hours (healthy)                                                                                                                supabase-auth\n",
      "ad301b1521ea   supabase/storage-api:v0.40.4     \"docker-entrypoint.s…\"    3 months ago   Up 2 hours (healthy)   5000/tcp                                                                                                     supabase-storage\n",
      "3b41fc717a15   supabase/realtime:v2.10.1        \"/usr/bin/tini -s -g…\"    3 months ago   Up 2 hours (healthy)                                                                                                                realtime-dev.supabase-realtime\n",
      "92d421612f13   postgrest/postgrest:v11.1.0      \"/bin/postgrest\"          3 months ago   Up 2 hours             3000/tcp                                                                                                     supabase-rest\n",
      "efad644099e8   supabase/postgres-meta:v0.66.3   \"docker-entrypoint.s…\"    3 months ago   Up 2 hours (healthy)   8080/tcp                                                                                                     supabase-meta\n",
      "5aed460314b4   supabase/edge-runtime:v1.6.6     \"edge-runtime start …\"    3 months ago   Up 2 hours                                                                                                                          supabase-edge-functions\n",
      "e2c44268074d   supabase/studio:v0.23.06         \"docker-entrypoint.s…\"    3 months ago   Up 2 hours (healthy)   0.0.0.0:3000->3000/tcp, :::3000->3000/tcp                                                                    supabase-studio\n",
      "972a290d8d53   kong:2.8.1                       \"bash -c 'eval \\\"echo…\"   3 months ago   Up 2 hours (healthy)   8001/tcp, 8444/tcp, 0.0.0.0:8443->8443/tcp, :::8443->8443/tcp, 0.0.0.0:55863->8000/tcp, :::55863->8000/tcp   supabase-kong\n",
      "ad20a1b728e7   supabase/postgres:15.1.0.90      \"docker-entrypoint.s…\"    3 months ago   Up 2 hours (healthy)   5432/tcp, 0.0.0.0:46667->46667/tcp, :::46667->46667/tcp                                                      supabase-db\n"
     ]
    }
   ],
   "source": [
    "%%bash\n",
    "docker ps"
   ]
  },
  {
   "cell_type": "markdown",
   "metadata": {},
   "source": [
    "## rebuild the container"
   ]
  },
  {
   "cell_type": "code",
   "execution_count": 36,
   "metadata": {},
   "outputs": [
    {
     "name": "stderr",
     "output_type": "stream",
     "text": [
      "#0 building with \"default\" instance using docker driver\n",
      "\n",
      "#1 [internal] load .dockerignore\n",
      "#1 transferring context: 2B done\n",
      "#1 DONE 0.0s\n",
      "\n",
      "#2 [internal] load build definition from Dockerfile\n",
      "#2 transferring dockerfile: 504B done\n",
      "#2 DONE 0.0s\n",
      "\n",
      "#3 [internal] load metadata for ghcr.io/osgeo/gdal:ubuntu-small-3.3.0\n",
      "#3 ...\n",
      "\n",
      "#4 [auth] osgeo/gdal:pull token for ghcr.io\n",
      "#4 DONE 0.0s\n",
      "\n",
      "#3 [internal] load metadata for ghcr.io/osgeo/gdal:ubuntu-small-3.3.0\n",
      "#3 DONE 0.6s\n",
      "\n",
      "#5 [1/9] FROM ghcr.io/osgeo/gdal:ubuntu-small-3.3.0@sha256:a257eee18fb46b31e47628ce481af97553d16bf5ac8063b36a42b47168321ee6\n",
      "#5 DONE 0.0s\n",
      "\n",
      "#6 [internal] load build context\n",
      "#6 transferring context: 1.18kB done\n",
      "#6 DONE 0.0s\n",
      "\n",
      "#7 [3/9] RUN mkdir /output\n",
      "#7 CACHED\n",
      "\n",
      "#8 [2/9] RUN mkdir /input\n",
      "#8 CACHED\n",
      "\n",
      "#9 [7/9] RUN pip install tqdm\n",
      "#9 CACHED\n",
      "\n",
      "#10 [4/9] RUN mkdir /src\n",
      "#10 CACHED\n",
      "\n",
      "#11 [5/9] RUN apt update\n",
      "#11 CACHED\n",
      "\n",
      "#12 [6/9] RUN apt install -y python3-pip\n",
      "#12 CACHED\n",
      "\n",
      "#13 [8/9] RUN if [[ -n \"1\" ]]; then pip install ipython; fi\n",
      "#13 CACHED\n",
      "\n",
      "#14 [9/9] COPY ./src /src\n",
      "#14 DONE 0.1s\n",
      "\n",
      "#15 exporting to image\n",
      "#15 exporting layers 0.0s done\n",
      "#15 writing image sha256:d1d1ef6c35a9c8061e6dd1c3caf27011719ef17730ff3117571c3e9578d52564 done\n",
      "#15 naming to docker.io/library/gdal done\n",
      "#15 DONE 0.0s\n"
     ]
    }
   ],
   "source": [
    "%%bash\n",
    "docker build -t gdal --build-arg DEVEL=1 ."
   ]
  },
  {
   "cell_type": "markdown",
   "metadata": {},
   "source": [
    "## RUN container"
   ]
  },
  {
   "cell_type": "code",
   "execution_count": 37,
   "metadata": {},
   "outputs": [
    {
     "name": "stdout",
     "output_type": "stream",
     "text": [
      "GDAL 3.3.0, released 2021/04/26\n",
      "\n",
      "Found 3 input tif.\n",
      "Using GDAL driver: COG\n",
      "  0% 0/3 [00:00<?, ?it/s]Warning 6: driver COG does not support creation option TILED\n",
      " 33% 1/3 [00:14<00:29, 14.60s/it]Warning 6: driver COG does not support creation option TILED\n",
      " 67% 2/3 [00:31<00:16, 16.22s/it]Warning 6: driver COG does not support creation option TILED\n",
      "100% 3/3 [01:05<00:00, 21.78s/it]\n",
      "Done!\n"
     ]
    }
   ],
   "source": [
    "%%bash\n",
    "# change the base path here\n",
    "docker run --rm -t -v \"$(pwd)\"/upload_data:/in -v \"$(pwd)\"/cogs:/out gdal"
   ]
  }
 ],
 "metadata": {
  "kernelspec": {
   "display_name": "base",
   "language": "python",
   "name": "python3"
  },
  "language_info": {
   "codemirror_mode": {
    "name": "ipython",
    "version": 3
   },
   "file_extension": ".py",
   "mimetype": "text/x-python",
   "name": "python",
   "nbconvert_exporter": "python",
   "pygments_lexer": "ipython3",
   "version": "3.10.13"
  }
 },
 "nbformat": 4,
 "nbformat_minor": 2
}
